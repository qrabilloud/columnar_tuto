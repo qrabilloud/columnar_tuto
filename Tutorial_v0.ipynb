{
 "cells": [
  {
   "cell_type": "markdown",
   "metadata": {},
   "source": [
    "## Connecting to ClickHouse"
   ]
  },
  {
   "cell_type": "code",
   "execution_count": null,
   "metadata": {},
   "outputs": [],
   "source": [
    "# import clickhouse_connect\n",
    "\n",
    "# # Connect to ClickHouse\n",
    "# clickhouse_client = clickhouse_connect.get_client(host='localhost', port=8123)"
   ]
  },
  {
   "cell_type": "markdown",
   "metadata": {},
   "source": [
    "## Connecting to MySQL"
   ]
  },
  {
   "cell_type": "code",
   "execution_count": null,
   "metadata": {},
   "outputs": [],
   "source": [
    "# import mysql.connector\n",
    "\n",
    "# # Connect to MySQL\n",
    "# mysql_conn = mysql.connector.connect(\n",
    "#     host=\"localhost\",\n",
    "#     user=\"root\",\n",
    "#     password=\"root\",\n",
    "#     database=\"nyc_taxi\"\n",
    "# )\n",
    "# mysql_cursor = mysql_conn.cursor()"
   ]
  },
  {
   "cell_type": "markdown",
   "metadata": {},
   "source": [
    "# Setup"
   ]
  },
  {
   "cell_type": "markdown",
   "metadata": {},
   "source": [
    "Je sais pas trop comment faire pour le moment."
   ]
  },
  {
   "cell_type": "markdown",
   "metadata": {},
   "source": [
    "## Creating ClickHouse Table"
   ]
  },
  {
   "cell_type": "code",
   "execution_count": null,
   "metadata": {},
   "outputs": [],
   "source": [
    "clickhouse_client.command(\"\"\"\n",
    "CREATE DATABASE IF NOT EXISTS nyc_taxi;\n",
    "\"\"\")\n",
    "\n",
    "clickhouse_client.command(\"\"\"\n",
    "CREATE TABLE nyc_taxi.trips (\n",
    "    trip_id Int32,\n",
    "    pickup_datetime DateTime,\n",
    "    dropoff_datetime DateTime,\n",
    "    passenger_count Int32,\n",
    "    trip_distance Float32,\n",
    "    fare_amount Float32,\n",
    "    tip_amount Float32,\n",
    "    total_amount Float32\n",
    ") ENGINE = MergeTree()\n",
    "ORDER BY pickup_datetime;\n",
    "\"\"\")\n"
   ]
  },
  {
   "cell_type": "markdown",
   "metadata": {},
   "source": [
    "## Query 1: Total Trips"
   ]
  },
  {
   "cell_type": "markdown",
   "metadata": {},
   "source": [
    "### MySQL"
   ]
  },
  {
   "cell_type": "code",
   "execution_count": null,
   "metadata": {},
   "outputs": [],
   "source": [
    "mysql_cursor.execute(\"SELECT COUNT(*) FROM trips;\")\n",
    "print(mysql_cursor.fetchone())"
   ]
  },
  {
   "cell_type": "markdown",
   "metadata": {},
   "source": [
    "### ClickHouse"
   ]
  },
  {
   "cell_type": "code",
   "execution_count": null,
   "metadata": {},
   "outputs": [],
   "source": [
    "clickhouse_query = \"SELECT COUNT(*) FROM nyc_taxi.trips;\"\n",
    "clickhouse_result = clickhouse_client.query(clickhouse_query)\n",
    "print(clickhouse_result.result_rows)"
   ]
  },
  {
   "cell_type": "markdown",
   "metadata": {},
   "source": [
    "## Query 2: Total Revenue from All Trips"
   ]
  },
  {
   "cell_type": "markdown",
   "metadata": {},
   "source": [
    "### MySQL"
   ]
  },
  {
   "cell_type": "code",
   "execution_count": null,
   "metadata": {},
   "outputs": [],
   "source": [
    "mysql_cursor.execute(\"SELECT SUM(total_amount) FROM trips;\")\n",
    "print(mysql_cursor.fetchone())"
   ]
  },
  {
   "cell_type": "markdown",
   "metadata": {},
   "source": [
    "### ClickHouse"
   ]
  },
  {
   "cell_type": "code",
   "execution_count": null,
   "metadata": {},
   "outputs": [],
   "source": [
    "clickhouse_query = \"SELECT SUM(total_amount) FROM nyc_taxi.trips;\"\n",
    "clickhouse_result = clickhouse_client.query(clickhouse_query)\n",
    "print(clickhouse_result.result_rows)"
   ]
  },
  {
   "cell_type": "markdown",
   "metadata": {},
   "source": [
    "## Query 3: Number of Trips per Month"
   ]
  },
  {
   "cell_type": "markdown",
   "metadata": {},
   "source": [
    "### MySQL"
   ]
  },
  {
   "cell_type": "code",
   "execution_count": null,
   "metadata": {},
   "outputs": [],
   "source": [
    "mysql_cursor.execute(\"\"\"\n",
    "SELECT \n",
    "    MONTH(pickup_datetime) AS month, \n",
    "    COUNT(*) AS trip_count \n",
    "FROM trips \n",
    "GROUP BY month \n",
    "ORDER BY month;\n",
    "\"\"\")\n",
    "print(mysql_cursor.fetchall())"
   ]
  },
  {
   "cell_type": "markdown",
   "metadata": {},
   "source": [
    "### ClickHouse"
   ]
  },
  {
   "cell_type": "code",
   "execution_count": null,
   "metadata": {},
   "outputs": [],
   "source": [
    "clickhouse_query = \"\"\"\n",
    "SELECT \n",
    "    toMonth(pickup_datetime) AS month, \n",
    "    COUNT(*) AS trip_count \n",
    "FROM nyc_taxi.trips \n",
    "GROUP BY month \n",
    "ORDER BY month;\n",
    "\"\"\"\n",
    "clickhouse_result = clickhouse_client.query(clickhouse_query)\n",
    "print(clickhouse_result.result_rows)"
   ]
  },
  {
   "cell_type": "markdown",
   "metadata": {},
   "source": [
    "## Query 4: Average Fare per Passenger Count"
   ]
  },
  {
   "cell_type": "markdown",
   "metadata": {},
   "source": [
    "### MySQL"
   ]
  },
  {
   "cell_type": "code",
   "execution_count": null,
   "metadata": {},
   "outputs": [],
   "source": [
    "mysql_cursor.execute(\"\"\"\n",
    "SELECT \n",
    "    passenger_count, \n",
    "    AVG(fare_amount) AS avg_fare \n",
    "FROM trips \n",
    "GROUP BY passenger_count \n",
    "ORDER BY passenger_count;\n",
    "\"\"\")\n",
    "print(mysql_cursor.fetchall())"
   ]
  },
  {
   "cell_type": "markdown",
   "metadata": {},
   "source": [
    "### ClickHouse"
   ]
  },
  {
   "cell_type": "code",
   "execution_count": null,
   "metadata": {},
   "outputs": [],
   "source": [
    "clickhouse_query = \"\"\"\n",
    "SELECT \n",
    "    passenger_count, \n",
    "    AVG(fare_amount) AS avg_fare \n",
    "FROM nyc_taxi.trips \n",
    "GROUP BY passenger_count \n",
    "ORDER BY passenger_count;\n",
    "\"\"\"\n",
    "clickhouse_result = clickhouse_client.query(clickhouse_query)\n",
    "print(clickhouse_result.result_rows)"
   ]
  },
  {
   "cell_type": "markdown",
   "metadata": {},
   "source": [
    "### Comparison of Results"
   ]
  },
  {
   "cell_type": "markdown",
   "metadata": {},
   "source": []
  }
 ],
 "metadata": {
  "kernelspec": {
   "display_name": "Python 3",
   "language": "python",
   "name": "python3"
  },
  "language_info": {
   "codemirror_mode": {
    "name": "ipython",
    "version": 3
   },
   "file_extension": ".py",
   "mimetype": "text/x-python",
   "name": "python",
   "nbconvert_exporter": "python",
   "pygments_lexer": "ipython3",
   "version": "3.12.6"
  }
 },
 "nbformat": 4,
 "nbformat_minor": 2
}

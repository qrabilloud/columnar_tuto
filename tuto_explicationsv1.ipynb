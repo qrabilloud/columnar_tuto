{
 "cells": [
  {
   "cell_type": "markdown",
   "metadata": {},
   "source": [
    "## Tutorial: Columnar ClickHouse"
   ]
  },
  {
   "cell_type": "markdown",
   "metadata": {},
   "source": [
    "Bienvenue dans notre tutoriel sur le moteur de base de données Clickhouse, basé sur le paradigme columnar.\n",
    "\n",
    "Qu'est-ce que le columnar ? C'est un méthode de stockage des données sous forme de colonnes plutôt que de lignes. Les deux systèmes n'ont pas vocation à s'opposer mais se complètent pour répondre à des besoins différents."
   ]
  },
  {
   "cell_type": "markdown",
   "metadata": {},
   "source": [
    "| ID     | NOM        | Prénom   | Salaire       |\n",
    "| ------ | ---------- | -------- | ------------- |\n",
    "| 0      | Cheucle    | Antoine  | 0             |\n",
    "| 2      | Crownguard | Garen    | 3300          |\n",
    "| 80     | Lentsch    | Bertrand | 121 892       |\n",
    "| 86     | Balkany    | Patrick  | 5 525 000     |"
   ]
  },
  {
   "cell_type": "markdown",
   "metadata": {},
   "source": [
    "Dans une base de données orientée lignes, les données ci-dessus sont stockées de la façon suivante :\n",
    "\n",
    "(0, Cheucle, Antoine) ; (2, Crownguard, Garen) ; (80, Lentsch, Bertrand) ; (86, Balkany, Patrick).\n",
    "\n",
    "Tandis que dans une base de données columnar, la rétention se fait de la façon suivante :\n",
    "\n",
    "(0, 2, 80, 86) ; (Cheucle, Crownguard, Lentsch, Balkany) ; (Antoine, Garen, Bertrand, Patrick)."
   ]
  },
  {
   "cell_type": "markdown",
   "metadata": {},
   "source": [
    "Cas d'usage pour le columnar :\n",
    "\n",
    "1. Les requêtes qui ne nécessitent qu'un faible nombre de colonnes.\n",
    "2. Grandes quantités de données à compresser.\n",
    "3. Agrégation sur de vastes quantités de données en peu de temps.\n",
    "4. Segmentation des clients pour du démarchage ciblé, par exemple \"Trouver tous les clients âgés de 25 à 35 ans qui ont acheté des produits d'une valeur supérieure à 1000€ l'année passée."
   ]
  },
  {
   "cell_type": "markdown",
   "metadata": {},
   "source": [
    "Incommodités d'une base de données columnar\n",
    "\n",
    "1. L'écriture est moins performante car chaque colonne doit être mise à jour indépendamment.\n",
    "2. La rétention sous forme de colonnes peut limiter l'interopérabilité avec d'autres applicatins conçues pour interagir avec des lignes.\n",
    "\n",
    "Moins efficace pour de l'écriture intensive de données, avec une forte variabilité, pour les requêtes sur de nombreuses colonnes en simultané. Peu adapté pour les données transactionnelles avec de fréquents ajouts ou retraits."
   ]
  },
  {
   "cell_type": "markdown",
   "metadata": {},
   "source": [
    "Bien plus performant pour les agrégations de données par groupe. Par exemple pour obtenir la somme des gains par taxi."
   ]
  },
  {
   "cell_type": "markdown",
   "metadata": {},
   "source": [
    "Le columnar est plus pertinent pour les données analytiques ou historiques (informatique décisionnelle) qui ont besoin d'être lues rapidement et en grands volumes, qui sont peu modifiées ou agrégées. Ce paradigme est également recommandé pour les requêtes impliquant un nombre limité de colonnes ou un grand nombre de lignes. Enfin cela permet un requêtage plus performant, un meilleur taux de compression et de partition des données.\n",
    "\n",
    "La redondance des données dans les colonnes permet de faciliter la compression dans ce mode de stockage.\n",
    "Optimisé pour des ajouts de grands volumes de données en simultané plutôt que de l'insertion fréquente de données uniques."
   ]
  },
  {
   "cell_type": "markdown",
   "metadata": {},
   "source": [
    "Il est possible d'hybrider les deux paradigmes pour en tirer le meilleur de chaque, comme c'est le cas avec Snowflake ou Google Big Query."
   ]
  }
 ],
 "metadata": {
  "language_info": {
   "name": "python"
  }
 },
 "nbformat": 4,
 "nbformat_minor": 2
}

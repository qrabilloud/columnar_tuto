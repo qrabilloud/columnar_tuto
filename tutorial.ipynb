{
 "cells": [
  {
   "cell_type": "markdown",
   "metadata": {},
   "source": [
    "# **Tutoriel : le paradigme columnar avec ClickHouse**"
   ]
  },
  {
   "cell_type": "markdown",
   "metadata": {},
   "source": [
    "### **Introduction**"
   ]
  },
  {
   "cell_type": "markdown",
   "metadata": {},
   "source": [
    "Bienvenue dans notre tutoriel sur le moteur de base de données Clickhouse, basé sur le paradigme columnar. Ce tutoriel permet de présenter le paradigme columnar, d'étudier ses spécificités, ses atouts et ses limites. A cette fin, il vous est proposé de travailler sur un ensemble de données des taxis de la ville de New York. Vous allez manipuler ces données à la fois avec un moteur classique en MySQL et avec un moteur en columnar grâce à ClickHouse, avec pour objectif de faire la comparaison entre les deux approches pour mettre en valeur les singularités du paradigme columnar.\n",
    "\n",
    "Dans la majorité des bases de données relationelles, les données sont structurées et conservées sous forme de lignes. Pour chaque ligne il y a une clé primaire à laquelle sont associées des propriétés. Dans le cas du paradigme columnar, les données sont conservées sous forme de colonnes et non de lignes.\n",
    "Pour illustrer cette distinction entre les deux approches, ci-dessous un exemple tiré de notre jeu de données.\n"
   ]
  },
  {
   "cell_type": "markdown",
   "metadata": {},
   "source": [
    "| ID    | Passenger Count  | Trip Distance  | Total amount  |\n",
    "| ----- | ---------------- | -------------- | ------------- |\n",
    "| 0     | 1                | 18             | 50            |\n",
    "| 1     | 2                | 3              | 8             |\n",
    "| 2     | 1                | 7              | 17            |\n",
    "| 3     | 4                | 10             | 32            |"
   ]
  },
  {
   "cell_type": "markdown",
   "metadata": {},
   "source": [
    "Dans une base de données orientée lignes, les données ci-dessus sont stockées selon les lignes :\n",
    "\n",
    "(0, 1, 18, 50) ; (1, 2, 3, 8) ; (2, 1, 7, 17) ; (3, 4, 10, 32).\n",
    "\n",
    "Tandis que dans une base de données columnar, la rétention se fait selon les colonnes :\n",
    "\n",
    "(0, 1, 2, 3) ; (1, 2, 1, 4) ; (18, 3, 7, 10) ; (50, 8, 17, 32)."
   ]
  },
  {
   "cell_type": "markdown",
   "metadata": {},
   "source": [
    "### **Mise en place**"
   ]
  },
  {
   "cell_type": "markdown",
   "metadata": {},
   "source": [
    "Pour commencer, il faut créer et démarrer les conteneurs encapsulant les différents composants nécessaires pour ce tutoriel, avec une commande `docker compose up`."
   ]
  },
  {
   "cell_type": "markdown",
   "metadata": {},
   "source": [
    "Ensuite il faut se connecter au serveur Jupyter accessible à l'adresse http://localhost:8888."
   ]
  },
  {
   "cell_type": "markdown",
   "metadata": {},
   "source": [
    "Enfin il faut configurer les connecteurs pour interagir avec les moteurs MySQL et ClickHouse. `conn` est le connecteur MySQL tandis que `client` est le client ClickHouse."
   ]
  },
  {
   "cell_type": "code",
   "execution_count": 1,
   "metadata": {},
   "outputs": [],
   "source": [
    "import pandas as pd\n",
    "import time\n",
    "from utils import test_mysql, test_clickhouse, sql_query, conn, client"
   ]
  },
  {
   "cell_type": "markdown",
   "metadata": {},
   "source": [
    "### **Vérification des conteneurs**\n",
    "\n",
    "Exécutez les blocs ci-dessous pour valider la bonne connection avec les conteneurs de moteurs de base de données."
   ]
  },
  {
   "cell_type": "code",
   "execution_count": 2,
   "metadata": {},
   "outputs": [
    {
     "name": "stdout",
     "output_type": "stream",
     "text": [
      "MySQL : (1, 'test', 100)\n"
     ]
    }
   ],
   "source": [
    "# Le résultat attendu est \"MySQL : (1, 'test', 100)\"\n",
    "test_mysql()"
   ]
  },
  {
   "cell_type": "code",
   "execution_count": 3,
   "metadata": {},
   "outputs": [
    {
     "name": "stdout",
     "output_type": "stream",
     "text": [
      "ClickHouse : (1, 'test', 100)\n"
     ]
    }
   ],
   "source": [
    "# Le résultat attendu est \"ClickHouse : (1, 'test', 100)\"\n",
    "test_clickhouse()"
   ]
  },
  {
   "cell_type": "markdown",
   "metadata": {},
   "source": [
    "Chargement du jeu de données avec les informations sur des trajets de taxi à New York.\n",
    "Le jeu de données a été réduit à 50 000 données."
   ]
  },
  {
   "cell_type": "code",
   "execution_count": 4,
   "metadata": {},
   "outputs": [],
   "source": [
    "df = pd.read_csv(\n",
    "    \"./dataset/input_data.csv\",\n",
    "    usecols=[\n",
    "        \"VendorID\",\n",
    "        \"passenger_count\",\n",
    "        \"trip_distance\",\n",
    "        \"fare_amount\",\n",
    "        \"tip_amount\",\n",
    "        \"tolls_amount\",\n",
    "    ],\n",
    ")"
   ]
  },
  {
   "cell_type": "markdown",
   "metadata": {},
   "source": [
    "## Découverte de la syntaxe"
   ]
  },
  {
   "cell_type": "markdown",
   "metadata": {},
   "source": [
    "`client.command(query)` permet d'effectuer les opérations sur les tables (création, destruction)."
   ]
  },
  {
   "cell_type": "code",
   "execution_count": 5,
   "metadata": {},
   "outputs": [
    {
     "data": {
      "text/plain": [
       "<clickhouse_connect.driver.summary.QuerySummary at 0x7f09e81adb50>"
      ]
     },
     "execution_count": 5,
     "metadata": {},
     "output_type": "execute_result"
    }
   ],
   "source": [
    "client.command(\"DROP TABLE IF EXISTS dnd;\")\n",
    "client.command(\"\"\"\n",
    "    CREATE TABLE dnd (\n",
    "        id UInt32,\n",
    "        name VARCHAR(24),\n",
    "        age UInt8,\n",
    "        strengh Float32,\n",
    "        charisma Float32,\n",
    "        agility Float32,\n",
    "        intelligence Float32\n",
    "    ) ENGINE = MergeTree()\n",
    "    ORDER BY id;\n",
    "\"\"\")"
   ]
  },
  {
   "cell_type": "markdown",
   "metadata": {},
   "source": [
    "`client.insert(table, data)` permet d'ajouter un ensemble de données à une table, où `data` prend la forme d'une liste de tuples représentant un tableau.\n",
    "\n",
    "`data = [(...), (...), ...]`"
   ]
  },
  {
   "cell_type": "code",
   "execution_count": 6,
   "metadata": {},
   "outputs": [
    {
     "data": {
      "text/plain": [
       "<clickhouse_connect.driver.summary.QuerySummary at 0x7f09975cef90>"
      ]
     },
     "execution_count": 6,
     "metadata": {},
     "output_type": "execute_result"
    }
   ],
   "source": [
    "data = [\n",
    "    (1, \"Alice\", 23, 60, 80, 50, 55),\n",
    "    (2, \"Bob\", 24, 60, 75, 65, 45),\n",
    "    (3, \"Charlie\", 23, 90, 60, 45, 50),\n",
    "    (4, \"David\", 23, 70, 70, 55, 50),\n",
    "    (5, \"Eleanore\", 22, 60, 80, 40, 65),\n",
    "]\n",
    "client.insert(\"dnd\", data)"
   ]
  },
  {
   "cell_type": "markdown",
   "metadata": {},
   "source": [
    "`client.query(query)` permet d'effectuer une requête pour obtenir des données"
   ]
  },
  {
   "cell_type": "code",
   "execution_count": 7,
   "metadata": {},
   "outputs": [],
   "source": [
    "result = client.query(\"SELECT * FROM dnd\")"
   ]
  },
  {
   "cell_type": "markdown",
   "metadata": {},
   "source": [
    "## Comparaison 1 : Chargement des données"
   ]
  },
  {
   "cell_type": "code",
   "execution_count": 8,
   "metadata": {},
   "outputs": [],
   "source": [
    "NB_ROWS_TO_INSERT = 5000"
   ]
  },
  {
   "cell_type": "markdown",
   "metadata": {},
   "source": [
    "On charge `NB_ROWS_TO_INSERT` données une par une pour étudier le temps mis par chaque système pour les ajouter."
   ]
  },
  {
   "cell_type": "code",
   "execution_count": 9,
   "metadata": {},
   "outputs": [
    {
     "name": "stdout",
     "output_type": "stream",
     "text": [
      "Time required to add 5000 rows one by one :  12.723230838775635\n"
     ]
    },
    {
     "data": {
      "text/plain": [
       "True"
      ]
     },
     "execution_count": 9,
     "metadata": {},
     "output_type": "execute_result"
    }
   ],
   "source": [
    "cursor = conn.cursor()\n",
    "\n",
    "cursor.execute(\"DROP TABLE IF EXISTS nyc_taxi;\")\n",
    "\n",
    "cursor.execute(\"\"\"\n",
    "    CREATE TABLE nyc_taxi (\n",
    "        id INT AUTO_INCREMENT PRIMARY KEY,\n",
    "        vendor_id INT,\n",
    "        passenger_count INT,\n",
    "        trip_distance FLOAT,\n",
    "        fare_amount FLOAT,\n",
    "        tip_amount FLOAT,\n",
    "        tolls_amount FLOAT\n",
    "    );\n",
    "\"\"\")\n",
    "\n",
    "conn.commit()\n",
    "\n",
    "t0 = time.time()\n",
    "for i, row in df.iterrows():\n",
    "    cursor.execute(\"\"\"\n",
    "        INSERT INTO nyc_taxi (vendor_id, passenger_count, trip_distance, fare_amount, tip_amount, tolls_amount)\n",
    "        VALUES (%s, %s, %s, %s, %s, %s)\n",
    "    \"\"\", tuple(row))\n",
    "    conn.commit()\n",
    "    if i == NB_ROWS_TO_INSERT :\n",
    "        break\n",
    "t1 = time.time()\n",
    "print(\"Time required to add %d rows one by one : \"%(NB_ROWS_TO_INSERT), t1 - t0)\n",
    "\n",
    "cursor.close()"
   ]
  },
  {
   "cell_type": "code",
   "execution_count": 10,
   "metadata": {},
   "outputs": [
    {
     "name": "stdout",
     "output_type": "stream",
     "text": [
      "Time required to add 5000 rows one by one :  22.41345763206482\n"
     ]
    }
   ],
   "source": [
    "client.command(\"DROP TABLE IF EXISTS nyc_taxi;\")\n",
    "\n",
    "client.command(\"\"\"\n",
    "    CREATE TABLE nyc_taxi (\n",
    "        id UInt32,\n",
    "        vendor_id UInt8,\n",
    "        passenger_count UInt8,\n",
    "        trip_distance Float32,\n",
    "        fare_amount Float32,\n",
    "        tip_amount Float32,\n",
    "        tolls_amount Float32\n",
    "    ) ENGINE = MergeTree()\n",
    "    ORDER BY id;\n",
    "\"\"\")\n",
    "\n",
    "t0 = time.time()\n",
    "data = []\n",
    "for i, row in df.iterrows():\n",
    "    client.insert(\"nyc_taxi\", [(i, row[\"VendorID\"], row[\"passenger_count\"], row[\"trip_distance\"], row[\"fare_amount\"], row[\"tip_amount\"], row[\"tolls_amount\"])])\n",
    "    if i == NB_ROWS_TO_INSERT :\n",
    "        break\n",
    "t1 = time.time()\n",
    "print(\"Time required to add %d rows one by one : \"%(NB_ROWS_TO_INSERT), t1 - t0)"
   ]
  },
  {
   "cell_type": "markdown",
   "metadata": {},
   "source": [
    "On observe que ClickHouse est beaucoup plus lent que MySQL pour l'insertion des données.\n",
    "Cela est dû à la différence dans la façon de conserver les données.\n",
    "- Pour MySQL, on ajoute 1 liste de N éléments\n",
    "- Pour ClickHouse, on ajoute 1 élement dans N listes\n",
    "\n",
    "Afin de pallier ce problème, on utilise la fonction `insert` avec un tableau de données pour ajouter un paquet plutôt que des données une par une."
   ]
  },
  {
   "cell_type": "markdown",
   "metadata": {},
   "source": [
    "Ajoutez à présent l'ensemble des données dans les deux bases de données (cela devrait prendre quelques minutes)."
   ]
  },
  {
   "cell_type": "code",
   "execution_count": 11,
   "metadata": {},
   "outputs": [
    {
     "data": {
      "text/plain": [
       "True"
      ]
     },
     "execution_count": 11,
     "metadata": {},
     "output_type": "execute_result"
    }
   ],
   "source": [
    "cursor = conn.cursor()\n",
    "\n",
    "cursor.execute(\"DROP TABLE IF EXISTS nyc_taxi;\")\n",
    "\n",
    "cursor.execute(\"\"\"\n",
    "    CREATE TABLE nyc_taxi (\n",
    "        id INT AUTO_INCREMENT PRIMARY KEY,\n",
    "        vendor_id INT,\n",
    "        passenger_count INT,\n",
    "        trip_distance FLOAT,\n",
    "        fare_amount FLOAT,\n",
    "        tip_amount FLOAT,\n",
    "        tolls_amount FLOAT\n",
    "    );\n",
    "\"\"\")\n",
    "\n",
    "conn.commit()\n",
    "\n",
    "for i, row in df.iterrows():\n",
    "    cursor.execute(\"\"\"\n",
    "        INSERT INTO nyc_taxi (vendor_id, passenger_count, trip_distance, fare_amount, tip_amount, tolls_amount)\n",
    "        VALUES (%s, %s, %s, %s, %s, %s)\n",
    "    \"\"\", tuple(row))\n",
    "\n",
    "conn.commit()\n",
    "cursor.close()"
   ]
  },
  {
   "cell_type": "code",
   "execution_count": 12,
   "metadata": {},
   "outputs": [
    {
     "data": {
      "text/plain": [
       "<clickhouse_connect.driver.summary.QuerySummary at 0x7f098bb98fd0>"
      ]
     },
     "execution_count": 12,
     "metadata": {},
     "output_type": "execute_result"
    }
   ],
   "source": [
    "client.command(\"DROP TABLE IF EXISTS nyc_taxi;\")\n",
    "\n",
    "client.command(\"\"\"\n",
    "    CREATE TABLE nyc_taxi (\n",
    "        id UInt32,\n",
    "        vendor_id UInt8,\n",
    "        passenger_count UInt8,\n",
    "        trip_distance Float32,\n",
    "        fare_amount Float32,\n",
    "        tip_amount Float32,\n",
    "        tolls_amount Float32\n",
    "    ) ENGINE = MergeTree()\n",
    "    ORDER BY id;\n",
    "\"\"\")\n",
    "\n",
    "data = []\n",
    "for i, row in df.iterrows():\n",
    "    data.append([i, row[\"VendorID\"], row[\"passenger_count\"], row[\"trip_distance\"], row[\"fare_amount\"], row[\"tip_amount\"], row[\"tolls_amount\"]])\n",
    "\n",
    "client.insert(\"nyc_taxi\", data)"
   ]
  },
  {
   "cell_type": "markdown",
   "metadata": {},
   "source": [
    "On voit ici qu'il y a un réel gain de temps lors de l'ajout par paquet.\n",
    "L'ajout progressif des données est une limitation importante de ClickHouse et des bases de données orientées colonnes en général."
   ]
  },
  {
   "cell_type": "markdown",
   "metadata": {},
   "source": [
    "Vérifiez que les deux bases de données contiennent bien le même nombre de lignes."
   ]
  },
  {
   "cell_type": "code",
   "execution_count": 13,
   "metadata": {},
   "outputs": [
    {
     "name": "stdout",
     "output_type": "stream",
     "text": [
      "MySQL Total Rows: 500000\n",
      "ClickHouse Total Rows: 500000\n"
     ]
    }
   ],
   "source": [
    "result = sql_query(\"SELECT COUNT(*) FROM nyc_taxi;\")\n",
    "print(\"MySQL Total Rows:\", result[0][0])\n",
    "\n",
    "result = client.query(\"SELECT COUNT(*) FROM nyc_taxi;\")\n",
    "print(\"ClickHouse Total Rows:\", result.result_rows[0][0])"
   ]
  },
  {
   "cell_type": "markdown",
   "metadata": {},
   "source": [
    "## Comparaison 2 : Requêtes globales"
   ]
  },
  {
   "cell_type": "markdown",
   "metadata": {},
   "source": [
    "On construit un jeu de requêtes pour étudier la différence dans le temps d'execution des requêtes selon la base de données. "
   ]
  },
  {
   "cell_type": "code",
   "execution_count": 14,
   "metadata": {},
   "outputs": [],
   "source": [
    "query_A = \"SELECT * FROM nyc_taxi;\"\n",
    "query_B = \"SELECT * FROM nyc_taxi ORDER BY passenger_count ASC, fare_amount DESC;\"\n",
    "query_C = \"SELECT SUM(trip_distance) FROM nyc_taxi;\"\n",
    "query_D = \"SELECT COUNT(*) FROM nyc_taxi;\"\n",
    "query_E = \"SELECT COUNT(passenger_count) FROM nyc_taxi;\""
   ]
  },
  {
   "cell_type": "code",
   "execution_count": 15,
   "metadata": {},
   "outputs": [
    {
     "name": "stdout",
     "output_type": "stream",
     "text": [
      "Requête :  SELECT * FROM nyc_taxi;\n",
      "MySQL :       0.7197241592407226\n",
      "ClickHouse :  0.111017484664917\n",
      " \n",
      "Requête :  SELECT * FROM nyc_taxi ORDER BY passenger_count ASC, fare_amount DESC;\n",
      "MySQL :       0.8403416919708252\n",
      "ClickHouse :  0.06148637771606445\n",
      " \n",
      "Requête :  SELECT SUM(trip_distance) FROM nyc_taxi;\n",
      "MySQL :       0.04455569267272949\n",
      "ClickHouse :  0.005372638702392578\n",
      " \n",
      "Requête :  SELECT COUNT(*) FROM nyc_taxi;\n",
      "MySQL :       0.012353439331054688\n",
      "ClickHouse :  0.0027822113037109376\n",
      " \n",
      "Requête :  SELECT COUNT(passenger_count) FROM nyc_taxi;\n",
      "MySQL :       0.12729467391967775\n",
      "ClickHouse :  0.0035449981689453123\n",
      " \n"
     ]
    }
   ],
   "source": [
    "iterations = 25\n",
    "for query in [query_A, query_B, query_C, query_D, query_E] :\n",
    "    t0 = time.time()\n",
    "    for i in range(iterations) :\n",
    "        resultsql = sql_query(query)\n",
    "    t1 = time.time()\n",
    "    for i in range(iterations) :\n",
    "        resultcol = client.query(query)\n",
    "    t2 = time.time()\n",
    "    print(\"Requête : \", query)\n",
    "    print(\"MySQL :      \", (t1 - t0)/iterations)\n",
    "    print(\"ClickHouse : \", (t2 - t1)/iterations)\n",
    "    print(\" \")"
   ]
  },
  {
   "cell_type": "markdown",
   "metadata": {},
   "source": [
    "On constate que pour des requêtes globales, notamment les agrégations, ClickHous est plus performant que MySQL. En effet, le paradigme columnar est particulièrement efficace pour traiter des requêtes ne nécessitant qu'un faible nombre de colonnes et faisant appel à des agrégations."
   ]
  },
  {
   "cell_type": "markdown",
   "metadata": {},
   "source": [
    "À présent à vous d'essayer de faire une requête pour comparer les performances des deux paradigmes."
   ]
  },
  {
   "cell_type": "code",
   "execution_count": 16,
   "metadata": {},
   "outputs": [
    {
     "name": "stdout",
     "output_type": "stream",
     "text": [
      "Requête :  SELECT * FROM nyc_taxi;\n",
      "MySQL :       0.6609178733825684\n",
      "ClickHouse :  0.0710689926147461\n"
     ]
    }
   ],
   "source": [
    "query = \"SELECT * FROM nyc_taxi;\"\n",
    "iterations = 25\n",
    "t0 = time.time()\n",
    "for i in range(iterations) :\n",
    "    resultsql = sql_query(query)\n",
    "t1 = time.time()\n",
    "for i in range(iterations) :\n",
    "    resultcol = client.query(query)\n",
    "t2 = time.time()\n",
    "print(\"Requête : \", query)\n",
    "print(\"MySQL :      \", (t1 - t0)/iterations)\n",
    "print(\"ClickHouse : \", (t2 - t1)/iterations)"
   ]
  },
  {
   "cell_type": "markdown",
   "metadata": {},
   "source": [
    "## Comparaison 3 : Requêtes spécifiques"
   ]
  },
  {
   "cell_type": "markdown",
   "metadata": {},
   "source": [
    "On étudie à présent le cas où l'on souhaite accéder à une ligne spécifique."
   ]
  },
  {
   "cell_type": "code",
   "execution_count": 17,
   "metadata": {},
   "outputs": [
    {
     "name": "stdout",
     "output_type": "stream",
     "text": [
      "MySQL :       0.012662525177001954\n",
      "ClickHouse :  0.004894771575927734\n"
     ]
    }
   ],
   "source": [
    "query = \"SELECT * FROM nyc_taxi WHERE id=1523\"\n",
    "iterations = 25\n",
    "t0 = time.time()\n",
    "for i in range(iterations) :\n",
    "    resultsql = sql_query(query)\n",
    "t1 = time.time()\n",
    "for i in range(iterations) :\n",
    "    resultcol = client.query(query)\n",
    "t2 = time.time()\n",
    "print(\"MySQL :      \", (t1 - t0)/iterations)\n",
    "print(\"ClickHouse : \", (t2 - t1)/iterations)"
   ]
  },
  {
   "cell_type": "code",
   "execution_count": 18,
   "metadata": {},
   "outputs": [
    {
     "name": "stdout",
     "output_type": "stream",
     "text": [
      "MySQL :       0.00038753509521484376\n",
      "ClickHouse :  0.0027335453033447265\n"
     ]
    }
   ],
   "source": [
    "query = \"SELECT * FROM nyc_taxi WHERE id=30523 OR id=28645\"\n",
    "iterations = 25\n",
    "t0 = time.time()\n",
    "for i in range(iterations) :\n",
    "    resultsql = sql_query(query)\n",
    "t1 = time.time()\n",
    "for i in range(iterations) :\n",
    "    resultcol = client.query(query)\n",
    "t2 = time.time()\n",
    "print(\"MySQL :      \", (t1 - t0)/iterations)\n",
    "print(\"ClickHouse : \", (t2 - t1)/iterations)"
   ]
  },
  {
   "cell_type": "markdown",
   "metadata": {},
   "source": [
    "Les accès de lignes précises sont bien plus longues avec ClickHouse qu'avec MySQL !"
   ]
  },
  {
   "cell_type": "code",
   "execution_count": 19,
   "metadata": {},
   "outputs": [
    {
     "name": "stdout",
     "output_type": "stream",
     "text": [
      "MySQL :       0.443908634185791\n",
      "ClickHouse :  0.05016204833984375\n"
     ]
    }
   ],
   "source": [
    "query = \"SELECT * FROM nyc_taxi WHERE id = 30523 OR tip_amount > 0\"\n",
    "iterations = 25\n",
    "t0 = time.time()\n",
    "for i in range(iterations) :\n",
    "    resultsql = sql_query(query)\n",
    "t1 = time.time()\n",
    "for i in range(iterations) :\n",
    "    resultcol = client.query(query)\n",
    "t2 = time.time()\n",
    "print(\"MySQL :      \", (t1 - t0)/iterations)\n",
    "print(\"ClickHouse : \", (t2 - t1)/iterations)"
   ]
  },
  {
   "cell_type": "code",
   "execution_count": 20,
   "metadata": {},
   "outputs": [
    {
     "name": "stdout",
     "output_type": "stream",
     "text": [
      "MySQL :       0.41467927932739257\n",
      "ClickHouse :  0.05212672233581543\n"
     ]
    }
   ],
   "source": [
    "query = \"SELECT * FROM nyc_taxi WHERE fare_amount > 1 AND fare_amount < 12 \"\n",
    "iterations = 25\n",
    "t0 = time.time()\n",
    "for i in range(iterations) :\n",
    "    resultsql = sql_query(query)\n",
    "t1 = time.time()\n",
    "for i in range(iterations) :\n",
    "    resultcol = client.query(query)\n",
    "t2 = time.time()\n",
    "print(\"MySQL :      \", (t1 - t0)/iterations)\n",
    "print(\"ClickHouse : \", (t2 - t1)/iterations)"
   ]
  },
  {
   "cell_type": "markdown",
   "metadata": {},
   "source": [
    "A l'inverse, le filtrage concernant une colonne est bien plus rapide avec ClickHouse."
   ]
  },
  {
   "cell_type": "code",
   "execution_count": 21,
   "metadata": {},
   "outputs": [
    {
     "name": "stdout",
     "output_type": "stream",
     "text": [
      "MySQL :       0.07926018714904785\n",
      "ClickHouse :  0.006500024795532227\n"
     ]
    }
   ],
   "source": [
    "query = \"SELECT * FROM nyc_taxi WHERE fare_amount = 1.0\"\n",
    "iterations = 25\n",
    "t0 = time.time()\n",
    "for i in range(iterations) :\n",
    "    resultsql = sql_query(query)\n",
    "t1 = time.time()\n",
    "for i in range(iterations) :\n",
    "    resultcol = client.query(query)\n",
    "t2 = time.time()\n",
    "print(\"MySQL :      \", (t1 - t0)/iterations)\n",
    "print(\"ClickHouse : \", (t2 - t1)/iterations)"
   ]
  },
  {
   "cell_type": "markdown",
   "metadata": {},
   "source": [
    "## Comparaison 4 : Requête avec jointure"
   ]
  },
  {
   "cell_type": "code",
   "execution_count": 22,
   "metadata": {},
   "outputs": [],
   "source": [
    "data = [(1, 0, 0.0),\n",
    "        (2, 1, 1.0),\n",
    "        (3, 2, 3.5),\n",
    "        (5, 3, 6.0),\n",
    "        (8, 4, 10.5)]"
   ]
  },
  {
   "cell_type": "code",
   "execution_count": 23,
   "metadata": {},
   "outputs": [
    {
     "data": {
      "text/plain": [
       "<clickhouse_connect.driver.summary.QuerySummary at 0x7f09975d43d0>"
      ]
     },
     "execution_count": 23,
     "metadata": {},
     "output_type": "execute_result"
    }
   ],
   "source": [
    "cursor = conn.cursor()\n",
    "\n",
    "cursor.execute(\"DROP TABLE IF EXISTS special_rule;\")\n",
    "\n",
    "cursor.execute(\"\"\"\n",
    "    CREATE TABLE special_rule (\n",
    "        id INT PRIMARY KEY,\n",
    "        passenger INT,\n",
    "        reduction FLOAT\n",
    "    );\n",
    "\"\"\")\n",
    "\n",
    "conn.commit()\n",
    "\n",
    "for row in data:\n",
    "    cursor.execute(\"\"\"\n",
    "        INSERT INTO special_rule (id, passenger, reduction)\n",
    "        VALUES (%s, %s, %s)\n",
    "    \"\"\", row)\n",
    "\n",
    "conn.commit()\n",
    "cursor.close()\n",
    "\n",
    "client.command(\"DROP TABLE IF EXISTS special_rule;\")\n",
    "\n",
    "client.command(\"\"\"\n",
    "    CREATE TABLE special_rule (\n",
    "        id UInt32,\n",
    "        passenger UInt8,\n",
    "        reduction Float32\n",
    "    ) ENGINE = MergeTree()\n",
    "    ORDER BY id;\n",
    "\"\"\")\n",
    "\n",
    "client.insert(\"special_rule\", data)"
   ]
  },
  {
   "cell_type": "code",
   "execution_count": 24,
   "metadata": {},
   "outputs": [
    {
     "name": "stdout",
     "output_type": "stream",
     "text": [
      "[(1, 0, 0.0), (2, 1, 1.0), (3, 2, 3.5), (5, 3, 6.0), (8, 4, 10.5)]\n",
      "[(1, 0, 0.0), (2, 1, 1.0), (3, 2, 3.5), (5, 3, 6.0), (8, 4, 10.5)]\n"
     ]
    }
   ],
   "source": [
    "resultsql = sql_query(\"SELECT * FROM special_rule\")\n",
    "print(resultsql)\n",
    "resultcol = client.query(\"SELECT * FROM special_rule\")\n",
    "print(resultcol.result_rows)"
   ]
  },
  {
   "cell_type": "code",
   "execution_count": 25,
   "metadata": {},
   "outputs": [
    {
     "name": "stdout",
     "output_type": "stream",
     "text": [
      "MySQL :       0.7587325668334961\n",
      "ClickHouse :  0.11388928413391114\n"
     ]
    }
   ],
   "source": [
    "query = \"SELECT * FROM nyc_taxi JOIN special_rule ON nyc_taxi.passenger_count = special_rule.passenger WHERE tip_amount < 10 * fare_amount\"\n",
    "iterations = 25\n",
    "t0 = time.time()\n",
    "for i in range(iterations) :\n",
    "    resultsql = sql_query(query)\n",
    "t1 = time.time()\n",
    "for i in range(iterations) :\n",
    "    resultcol = client.query(query)\n",
    "t2 = time.time()\n",
    "print(\"MySQL :      \", (t1 - t0)/iterations)\n",
    "print(\"ClickHouse : \", (t2 - t1)/iterations)"
   ]
  },
  {
   "cell_type": "markdown",
   "metadata": {},
   "source": [
    "En conclusion, le columnar est plus pertinent pour les données analytiques ou historiques (informatique décisionnelle) qui ont besoin d'être lues rapidement et en grands volumes, qui sont peu modifiées ou agrégées. Ce paradigme est également recommandé pour les requêtes impliquant un nombre limité de colonnes ou un grand nombre de lignes. Enfin cela permet un requêtage plus performant, un meilleur taux de compression et de partition des données.\n",
    "\n",
    "À l'inverse, pour des bases de données transactionnelles, avec de nombreux ajouts et mises à jour de données avec une grande variabilité et de multiples colonnes, le columnar est peu approprié et présente des performances décevantes voire rédhibitoires."
   ]
  },
  {
   "cell_type": "markdown",
   "metadata": {},
   "source": [
    "Pour tirer profit au maximum des atouts de chaque paradigme, en ligne ou en colonne, il est possible d'hybrider les technologies, comme c'est le cas sur les projets Snowflake ou Google Big Query."
   ]
  }
 ],
 "metadata": {
  "kernelspec": {
   "display_name": "Python 3 (ipykernel)",
   "language": "python",
   "name": "python3"
  },
  "language_info": {
   "codemirror_mode": {
    "name": "ipython",
    "version": 3
   },
   "file_extension": ".py",
   "mimetype": "text/x-python",
   "name": "python",
   "nbconvert_exporter": "python",
   "pygments_lexer": "ipython3",
   "version": "3.11.11"
  }
 },
 "nbformat": 4,
 "nbformat_minor": 2
}

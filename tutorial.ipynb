{
 "cells": [
  {
   "cell_type": "markdown",
   "metadata": {},
   "source": [
    "# **Columnar Tutorial**"
   ]
  },
  {
   "cell_type": "code",
   "execution_count": 1,
   "metadata": {},
   "outputs": [
    {
     "name": "stdout",
     "output_type": "stream",
     "text": [
      "Hello World\n"
     ]
    }
   ],
   "source": [
    "# Test cell\n",
    "print(\"Hello World\")"
   ]
  },
  {
   "cell_type": "markdown",
   "metadata": {},
   "source": [
    "### **SETUP**"
   ]
  },
  {
   "cell_type": "code",
   "execution_count": 2,
   "metadata": {},
   "outputs": [],
   "source": [
    "import mysql.connector\n",
    "import clickhouse_connect\n",
    "import pandas as pd\n",
    "import time"
   ]
  },
  {
   "cell_type": "code",
   "execution_count": 3,
   "metadata": {},
   "outputs": [],
   "source": [
    "# Configuration MySQL\n",
    "MYSQL_CONFIG = {\n",
    "    \"host\": \"mysql\",\n",
    "    \"user\": \"user\",\n",
    "    \"password\": \"password\",\n",
    "    \"database\": \"testdb\",\n",
    "}\n",
    "\n",
    "# Configuration ClickHouse\n",
    "CLICKHOUSE_CONFIG = {\n",
    "    \"host\": \"clickhouse\",\n",
    "    \"user\": \"default\",\n",
    "    \"password\": \"password\",\n",
    "    \"port\": 8123,\n",
    "}"
   ]
  },
  {
   "cell_type": "markdown",
   "metadata": {},
   "source": [
    "### **TEST DES CONTENEURS**"
   ]
  },
  {
   "cell_type": "code",
   "execution_count": null,
   "metadata": {},
   "outputs": [],
   "source": [
    "# Connexion MySQL\n",
    "def test_mysql():\n",
    "    conn = mysql.connector.connect(**MYSQL_CONFIG)\n",
    "    cursor = conn.cursor()\n",
    "\n",
    "    cursor.execute(\"DROP TABLE IF EXISTS test_table;\")\n",
    "    cursor.execute(\"\"\"\n",
    "        CREATE TABLE test_table (\n",
    "            id INT AUTO_INCREMENT PRIMARY KEY,\n",
    "            name CHAR(10),\n",
    "            value INT\n",
    "        );\n",
    "    \"\"\")\n",
    "\n",
    "    cursor.execute(\"INSERT INTO test_table (name, value) VALUES ('test', 100), ('test', 200);\")\n",
    "    conn.commit()\n",
    "\n",
    "    cursor.execute(\"SELECT * FROM test_table LIMIT 1;\")\n",
    "    print(\"MySQL :\", cursor.fetchone())\n",
    "\n",
    "    cursor.close()\n",
    "    conn.close()"
   ]
  },
  {
   "cell_type": "code",
   "execution_count": null,
   "metadata": {},
   "outputs": [],
   "source": [
    "# Connexion ClickHouse\n",
    "def test_clickhouse():\n",
    "    client = clickhouse_connect.get_client(**CLICKHOUSE_CONFIG)\n",
    "\n",
    "    client.command(\"DROP TABLE IF EXISTS test_table;\")\n",
    "    client.command(\"\"\"\n",
    "        CREATE TABLE test_table (\n",
    "            id UInt32,\n",
    "            name String,\n",
    "            value Int32\n",
    "        ) ENGINE = MergeTree()\n",
    "        ORDER BY id;\n",
    "    \"\"\")\n",
    "\n",
    "    client.insert(\"test_table\", [[1, 'test', 100], [2, 'test', 200]])\n",
    "\n",
    "    result = client.query(\"SELECT * FROM test_table LIMIT 1;\")\n",
    "    print(\"ClickHouse :\", result.result_rows[0])"
   ]
  },
  {
   "cell_type": "code",
   "execution_count": null,
   "metadata": {},
   "outputs": [
    {
     "name": "stdout",
     "output_type": "stream",
     "text": [
      "MySQL :  (1, 'test', 100)\n"
     ]
    }
   ],
   "source": [
    "# Should print \"MySQL : (1, 'test', 100)\"\n",
    "test_mysql()"
   ]
  },
  {
   "cell_type": "code",
   "execution_count": null,
   "metadata": {},
   "outputs": [
    {
     "name": "stdout",
     "output_type": "stream",
     "text": [
      "ClickHouse :  (1, 'test', 100)\n"
     ]
    }
   ],
   "source": [
    "# Should print \"ClickHouse : (1, 'test', 100)\"\n",
    "test_clickhouse()"
   ]
  },
  {
   "cell_type": "markdown",
   "metadata": {},
   "source": [
    "Instantiation des connecteurs / client pour les db"
   ]
  },
  {
   "cell_type": "code",
   "execution_count": 8,
   "metadata": {},
   "outputs": [],
   "source": [
    "client = clickhouse_connect.get_client(**CLICKHOUSE_CONFIG)\n",
    "conn = mysql.connector.connect(**MYSQL_CONFIG)"
   ]
  },
  {
   "cell_type": "markdown",
   "metadata": {},
   "source": [
    "Fonction pour simplifier les requêtes mysql"
   ]
  },
  {
   "cell_type": "code",
   "execution_count": 9,
   "metadata": {},
   "outputs": [],
   "source": [
    "def sql_query(query) :\n",
    "    cursor = conn.cursor()\n",
    "    cursor.execute(query)\n",
    "    res = cursor.fetchall()\n",
    "    cursor.close()\n",
    "    return res"
   ]
  },
  {
   "cell_type": "markdown",
   "metadata": {},
   "source": [
    "Chargement du dataset. Il comporte un ensemble d'information sur des trajets de taxi à New York.\n",
    "Le dataset a été réduit à 50.000 données."
   ]
  },
  {
   "cell_type": "code",
   "execution_count": 10,
   "metadata": {},
   "outputs": [],
   "source": [
    "df = pd.read_csv(\n",
    "    \"./dataset/input_data.csv\",\n",
    "    usecols=[\n",
    "        \"VendorID\",\n",
    "        \"passenger_count\",\n",
    "        \"trip_distance\",\n",
    "        \"fare_amount\",\n",
    "        \"tip_amount\",\n",
    "        \"tolls_amount\",\n",
    "    ],\n",
    ")"
   ]
  },
  {
   "cell_type": "markdown",
   "metadata": {},
   "source": [
    "## Comparaison 1 : Chargement des données"
   ]
  },
  {
   "cell_type": "code",
   "execution_count": null,
   "metadata": {},
   "outputs": [],
   "source": [
    "NB_ROWS_TO_INSERT = 5000"
   ]
  },
  {
   "cell_type": "markdown",
   "metadata": {},
   "source": [
    "On charge {NB_ROWS_TO_INSERT} données une par une pour étudier le temps mis par chaque système pour les ajouter."
   ]
  },
  {
   "cell_type": "code",
   "execution_count": 15,
   "metadata": {},
   "outputs": [
    {
     "name": "stdout",
     "output_type": "stream",
     "text": [
      "Time required to add 10000 rows one by one :  29.56834125518799\n"
     ]
    },
    {
     "data": {
      "text/plain": [
       "True"
      ]
     },
     "execution_count": 15,
     "metadata": {},
     "output_type": "execute_result"
    }
   ],
   "source": [
    "cursor = conn.cursor()\n",
    "\n",
    "cursor.execute(\"DROP TABLE IF EXISTS nyc_taxi;\")\n",
    "\n",
    "cursor.execute(\"\"\"\n",
    "    CREATE TABLE nyc_taxi (\n",
    "        id INT AUTO_INCREMENT PRIMARY KEY,\n",
    "        vendor_id INT,\n",
    "        passenger_count INT,\n",
    "        trip_distance FLOAT,\n",
    "        fare_amount FLOAT,\n",
    "        tip_amount FLOAT,\n",
    "        tolls_amount FLOAT\n",
    "    );\n",
    "\"\"\")\n",
    "\n",
    "conn.commit()\n",
    "\n",
    "t0 = time.time()\n",
    "for i, row in df.iterrows():\n",
    "    cursor.execute(\"\"\"\n",
    "        INSERT INTO nyc_taxi (vendor_id, passenger_count, trip_distance, fare_amount, tip_amount, tolls_amount)\n",
    "        VALUES (%s, %s, %s, %s, %s, %s)\n",
    "    \"\"\", tuple(row))\n",
    "    conn.commit()\n",
    "    if i == NB_ROWS_TO_INSERT :\n",
    "        break\n",
    "t1 = time.time()\n",
    "print(\"Time required to add %d rows one by one : \"%(NB_ROWS_TO_INSERT), t1 - t0)\n",
    "\n",
    "cursor.close()"
   ]
  },
  {
   "cell_type": "code",
   "execution_count": 16,
   "metadata": {},
   "outputs": [
    {
     "name": "stdout",
     "output_type": "stream",
     "text": [
      "Time required to add 10000 rows one by one :  51.34179663658142\n"
     ]
    }
   ],
   "source": [
    "client.command(\"DROP TABLE IF EXISTS nyc_taxi;\")\n",
    "\n",
    "client.command(\"\"\"\n",
    "    CREATE TABLE nyc_taxi (\n",
    "        id UInt32,\n",
    "        vendor_id UInt8,\n",
    "        passenger_count UInt8,\n",
    "        trip_distance Float32,\n",
    "        fare_amount Float32,\n",
    "        tip_amount Float32,\n",
    "        tolls_amount Float32\n",
    "    ) ENGINE = MergeTree()\n",
    "    ORDER BY id;\n",
    "\"\"\")\n",
    "\n",
    "t0 = time.time()\n",
    "data = []\n",
    "for i, row in df.iterrows():\n",
    "    client.insert(\"nyc_taxi\", [(i, row[\"VendorID\"], row[\"passenger_count\"], row[\"trip_distance\"], row[\"fare_amount\"], row[\"tip_amount\"], row[\"tolls_amount\"])])\n",
    "    if i == NB_ROWS_TO_INSERT :\n",
    "        break\n",
    "t1 = time.time()\n",
    "print(\"Time required to add %d rows one by one : \"%(NB_ROWS_TO_INSERT), t1 - t0)"
   ]
  },
  {
   "cell_type": "markdown",
   "metadata": {},
   "source": [
    "On observe que clickhouse est beaucoup plus lent que mysql pour l'insertion des données.\n",
    "C'est évidemment dû à la différence de stockage.\n",
    "- Pour MySQL, on ajoute 1 liste de N éléments\n",
    "- Pour ClickHouse, on ajoute 1 élement dans N listes\n",
    "\n",
    "Afin de pallier ce problème, on utilise la fonction `insert` avec un tableau de donnée pour ajouter un paquet.\n",
    "Ajout maintenant l'ensemble des données dans les deux base de données."
   ]
  },
  {
   "cell_type": "code",
   "execution_count": 17,
   "metadata": {},
   "outputs": [
    {
     "data": {
      "text/plain": [
       "True"
      ]
     },
     "execution_count": 17,
     "metadata": {},
     "output_type": "execute_result"
    }
   ],
   "source": [
    "cursor = conn.cursor()\n",
    "\n",
    "cursor.execute(\"DROP TABLE IF EXISTS nyc_taxi;\")\n",
    "\n",
    "cursor.execute(\"\"\"\n",
    "    CREATE TABLE nyc_taxi (\n",
    "        id INT AUTO_INCREMENT PRIMARY KEY,\n",
    "        vendor_id INT,\n",
    "        passenger_count INT,\n",
    "        trip_distance FLOAT,\n",
    "        fare_amount FLOAT,\n",
    "        tip_amount FLOAT,\n",
    "        tolls_amount FLOAT\n",
    "    );\n",
    "\"\"\")\n",
    "\n",
    "conn.commit()\n",
    "\n",
    "for i, row in df.iterrows():\n",
    "    cursor.execute(\"\"\"\n",
    "        INSERT INTO nyc_taxi (vendor_id, passenger_count, trip_distance, fare_amount, tip_amount, tolls_amount)\n",
    "        VALUES (%s, %s, %s, %s, %s, %s)\n",
    "    \"\"\", tuple(row))\n",
    "\n",
    "conn.commit()\n",
    "cursor.close()"
   ]
  },
  {
   "cell_type": "code",
   "execution_count": 18,
   "metadata": {},
   "outputs": [
    {
     "data": {
      "text/plain": [
       "<clickhouse_connect.driver.summary.QuerySummary at 0x7f0ee8f9dfd0>"
      ]
     },
     "execution_count": 18,
     "metadata": {},
     "output_type": "execute_result"
    }
   ],
   "source": [
    "data = []\n",
    "for i, row in df.iterrows():\n",
    "    data.append((i, row[\"VendorID\"], row[\"passenger_count\"], row[\"trip_distance\"], row[\"fare_amount\"]))\n",
    "\n",
    "client.command(\"DROP TABLE IF EXISTS nyc_taxi;\")\n",
    "\n",
    "client.command(\"\"\"\n",
    "    CREATE TABLE nyc_taxi (\n",
    "        id UInt32,\n",
    "        vendor_id UInt8,\n",
    "        passenger_count UInt8,\n",
    "        trip_distance Float32,\n",
    "        fare_amount Float32,\n",
    "        tip_amount Float32,\n",
    "        tolls_amount Float32\n",
    "    ) ENGINE = MergeTree()\n",
    "    ORDER BY id;\n",
    "\"\"\")\n",
    "\n",
    "data = []\n",
    "for i, row in df.iterrows():\n",
    "    data.append([i, row[\"VendorID\"], row[\"passenger_count\"], row[\"trip_distance\"], row[\"fare_amount\"], row[\"tip_amount\"], row[\"tolls_amount\"]])\n",
    "\n",
    "client.insert(\"nyc_taxi\", data)"
   ]
  },
  {
   "cell_type": "markdown",
   "metadata": {},
   "source": [
    "On voit ici qu'il y a un réel gain de temps lors de l'ajout par batch.\n",
    "L'ajout progressif des données est une limitation importante de ClickHouse et des bases de données orientés colonnes en général."
   ]
  },
  {
   "cell_type": "code",
   "execution_count": 19,
   "metadata": {},
   "outputs": [
    {
     "name": "stdout",
     "output_type": "stream",
     "text": [
      "MySQL Total Rows: 500000\n",
      "ClickHouse Total Rows: 500000\n"
     ]
    }
   ],
   "source": [
    "result = sql_query(\"SELECT COUNT(*) FROM nyc_taxi;\")\n",
    "print(\"MySQL Total Rows:\", result[0][0])\n",
    "\n",
    "result = client.query(\"SELECT COUNT(*) FROM nyc_taxi;\")\n",
    "print(\"ClickHouse Total Rows:\", result.result_rows[0][0])"
   ]
  },
  {
   "cell_type": "markdown",
   "metadata": {},
   "source": [
    "## Comparaison 2 : Requête (global)"
   ]
  },
  {
   "cell_type": "markdown",
   "metadata": {},
   "source": [
    "On définit requête pour étudier la différence dans le temps d'execution des requêtes selon la base de donnée. "
   ]
  },
  {
   "cell_type": "code",
   "execution_count": 24,
   "metadata": {},
   "outputs": [],
   "source": [
    "query_A = \"SELECT * FROM nyc_taxi;\"\n",
    "query_B = \"SELECT * FROM nyc_taxi ORDER BY passenger_count ASC, fare_amount DESC;\"\n",
    "query_C = \"SELECT SUM(trip_distance) FROM nyc_taxi;\"\n",
    "query_D = \"SELECT COUNT(*) FROM nyc_taxi;\"\n",
    "query_E = \"SELECT COUNT(passenger_count) FROM nyc_taxi;\""
   ]
  },
  {
   "cell_type": "code",
   "execution_count": 41,
   "metadata": {},
   "outputs": [
    {
     "name": "stdout",
     "output_type": "stream",
     "text": [
      "Requête :  SELECT * FROM nyc_taxi;\n",
      "MySQL :       0.7422834873199463\n",
      "ClickHouse :  0.08609867095947266\n",
      " \n",
      "Requête :  SELECT * FROM nyc_taxi ORDER BY passenger_count ASC, fare_amount DESC;\n",
      "MySQL :       0.960255217552185\n",
      "ClickHouse :  0.06942627429962159\n",
      " \n",
      "Requête :  SELECT SUM(trip_distance) FROM nyc_taxi;\n",
      "MySQL :       0.05632903575897217\n",
      "ClickHouse :  0.004126310348510742\n",
      " \n",
      "Requête :  SELECT COUNT(*) FROM nyc_taxi;\n",
      "MySQL :       0.010936164855957031\n",
      "ClickHouse :  0.002720212936401367\n",
      " \n",
      "Requête :  SELECT COUNT(passenger_count) FROM nyc_taxi;\n",
      "MySQL :       0.052386474609375\n",
      "ClickHouse :  0.002329587936401367\n",
      " \n"
     ]
    }
   ],
   "source": [
    "iterations = 10\n",
    "for query in [query_A, query_B, query_C, query_D, query_E] :\n",
    "    t0 = time.time()\n",
    "    for i in range(iterations) :\n",
    "        resultsql = sql_query(query)\n",
    "    t1 = time.time()\n",
    "    for i in range(iterations) :\n",
    "        resultcol = client.query(query)\n",
    "    t2 = time.time()\n",
    "    print(\"Requête : \", query)\n",
    "    print(\"MySQL :      \", (t1 - t0)/iterations)\n",
    "    print(\"ClickHouse : \", (t2 - t1)/iterations)\n",
    "    print(\" \")"
   ]
  },
  {
   "cell_type": "markdown",
   "metadata": {},
   "source": [
    "Try it yourself !"
   ]
  },
  {
   "cell_type": "code",
   "execution_count": null,
   "metadata": {},
   "outputs": [],
   "source": [
    "query = \"\"\n",
    "iterations = 10\n",
    "t0 = time.time()\n",
    "for i in range(iterations) :\n",
    "    resultsql = sql_query(query)\n",
    "t1 = time.time()\n",
    "for i in range(iterations) :\n",
    "    resultcol = client.query(query)\n",
    "t2 = time.time()\n",
    "print(\"Requête : \", query)\n",
    "print(\"MySQL :      \", (t1 - t0)/iterations)\n",
    "print(\"ClickHouse : \", (t2 - t1)/iterations)"
   ]
  },
  {
   "cell_type": "markdown",
   "metadata": {},
   "source": [
    "## Comparaison 3 : Requête (specific)"
   ]
  },
  {
   "cell_type": "code",
   "execution_count": 50,
   "metadata": {},
   "outputs": [
    {
     "name": "stdout",
     "output_type": "stream",
     "text": [
      "MySQL :       0.0005139350891113281\n",
      "ClickHouse :  0.0030791521072387694\n"
     ]
    }
   ],
   "source": [
    "query = \"SELECT * FROM nyc_taxi WHERE id=1523\"\n",
    "iterations = 10\n",
    "t0 = time.time()\n",
    "for i in range(iterations) :\n",
    "    resultsql = sql_query(query)\n",
    "t1 = time.time()\n",
    "for i in range(iterations) :\n",
    "    resultcol = client.query(query)\n",
    "t2 = time.time()\n",
    "print(\"MySQL :      \", (t1 - t0)/iterations)\n",
    "print(\"ClickHouse : \", (t2 - t1)/iterations)"
   ]
  },
  {
   "cell_type": "code",
   "execution_count": 51,
   "metadata": {},
   "outputs": [
    {
     "name": "stdout",
     "output_type": "stream",
     "text": [
      "MySQL :       0.00045096874237060547\n",
      "ClickHouse :  0.0055588483810424805\n"
     ]
    }
   ],
   "source": [
    "query = \"SELECT * FROM nyc_taxi WHERE id=30523 OR id=28645\"\n",
    "iterations = 10\n",
    "t0 = time.time()\n",
    "for i in range(iterations) :\n",
    "    resultsql = sql_query(query)\n",
    "t1 = time.time()\n",
    "for i in range(iterations) :\n",
    "    resultcol = client.query(query)\n",
    "t2 = time.time()\n",
    "print(\"MySQL :      \", (t1 - t0)/iterations)\n",
    "print(\"ClickHouse : \", (t2 - t1)/iterations)"
   ]
  },
  {
   "cell_type": "markdown",
   "metadata": {},
   "source": [
    "Les accès de lignes précises sont bien plus longue avec ClickHouse qu'avec MySQL !"
   ]
  },
  {
   "cell_type": "code",
   "execution_count": 53,
   "metadata": {},
   "outputs": [
    {
     "name": "stdout",
     "output_type": "stream",
     "text": [
      "MySQL :       0.4327935457229614\n",
      "ClickHouse :  0.05872609615325928\n"
     ]
    }
   ],
   "source": [
    "query = \"SELECT * FROM nyc_taxi WHERE id = 30523 OR tip_amount > 0\"\n",
    "iterations = 10\n",
    "t0 = time.time()\n",
    "for i in range(iterations) :\n",
    "    resultsql = sql_query(query)\n",
    "t1 = time.time()\n",
    "for i in range(iterations) :\n",
    "    resultcol = client.query(query)\n",
    "t2 = time.time()\n",
    "print(\"MySQL :      \", (t1 - t0)/iterations)\n",
    "print(\"ClickHouse : \", (t2 - t1)/iterations)"
   ]
  },
  {
   "cell_type": "code",
   "execution_count": 55,
   "metadata": {},
   "outputs": [
    {
     "name": "stdout",
     "output_type": "stream",
     "text": [
      "MySQL :       0.500825047492981\n",
      "ClickHouse :  0.056356501579284665\n"
     ]
    }
   ],
   "source": [
    "query = \"SELECT * FROM nyc_taxi WHERE fare_amount > 1 AND fare_amount < 12 \"\n",
    "iterations = 10\n",
    "t0 = time.time()\n",
    "for i in range(iterations) :\n",
    "    resultsql = sql_query(query)\n",
    "t1 = time.time()\n",
    "for i in range(iterations) :\n",
    "    resultcol = client.query(query)\n",
    "t2 = time.time()\n",
    "print(\"MySQL :      \", (t1 - t0)/iterations)\n",
    "print(\"ClickHouse : \", (t2 - t1)/iterations)"
   ]
  },
  {
   "cell_type": "markdown",
   "metadata": {},
   "source": [
    "A l'inverse, le filtrage concernant une colonne est bien plus rapide avec ClickHouse."
   ]
  },
  {
   "cell_type": "code",
   "execution_count": null,
   "metadata": {},
   "outputs": [
    {
     "name": "stdout",
     "output_type": "stream",
     "text": [
      "MySQL :       0.10245535373687745\n",
      "ClickHouse :  0.005701088905334472\n"
     ]
    }
   ],
   "source": [
    "query = \"SELECT * FROM nyc_taxi WHERE fare_amount = 1.0\"\n",
    "iterations = 10\n",
    "t0 = time.time()\n",
    "for i in range(iterations) :\n",
    "    resultsql = sql_query(query)\n",
    "t1 = time.time()\n",
    "for i in range(iterations) :\n",
    "    resultcol = client.query(query)\n",
    "t2 = time.time()\n",
    "print(\"MySQL :      \", (t1 - t0)/iterations)\n",
    "print(\"ClickHouse : \", (t2 - t1)/iterations)"
   ]
  }
 ],
 "metadata": {
  "kernelspec": {
   "display_name": "Python 3 (ipykernel)",
   "language": "python",
   "name": "python3"
  },
  "language_info": {
   "codemirror_mode": {
    "name": "ipython",
    "version": 3
   },
   "file_extension": ".py",
   "mimetype": "text/x-python",
   "name": "python",
   "nbconvert_exporter": "python",
   "pygments_lexer": "ipython3",
   "version": "3.11.11"
  }
 },
 "nbformat": 4,
 "nbformat_minor": 2
}

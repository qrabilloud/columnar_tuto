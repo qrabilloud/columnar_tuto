{
 "cells": [
  {
   "cell_type": "markdown",
   "metadata": {},
   "source": [
    "## Tutorial: Columnar ClickHouse"
   ]
  },
  {
   "cell_type": "code",
   "execution_count": 1,
   "metadata": {},
   "outputs": [
    {
     "name": "stdout",
     "output_type": "stream",
     "text": [
      "Yo\n"
     ]
    }
   ],
   "source": [
    "print(\"Yo\")"
   ]
  },
  {
   "cell_type": "code",
   "execution_count": null,
   "metadata": {},
   "outputs": [
    {
     "name": "stdout",
     "output_type": "stream",
     "text": [
      "connected to clickHouse\n",
      "\n",
      "table new_table created or exists already!\n",
      "\n",
      "-------\n",
      "new_table\n",
      "-------\n",
      "\n",
      "-------\n"
     ]
    }
   ],
   "source": [
    "import clickhouse_connect\n",
    "\n",
    "CLICKHOUSE_HOSTNAME = 'clickHouse'\n",
    "CLICKHOUSE_USER = 'default'\n",
    "CLICKHOUSE_PASSWORD = 'test'\n",
    "\n",
    "client = clickhouse_connect.get_client(\n",
    "    host=CLICKHOUSE_HOSTNAME, port=8123, username=CLICKHOUSE_USER, password=CLICKHOUSE_PASSWORD)\n",
    "\n",
    "print(\"connected to \" + CLICKHOUSE_HOSTNAME + \"\\n\")\n",
    "client.command(\n",
    "    'CREATE TABLE IF NOT EXISTS new_table (key UInt32, value String, metric Float64) ENGINE MergeTree ORDER BY key')\n",
    "\n",
    "print(\"table new_table created or exists already!\\n\")\n",
    "print(\"-------\")\n",
    "print(client.command('show tables'))\n",
    "\n",
    "client.command('DROP TABLE new_table')\n",
    "\n",
    "print(\"-------\")\n",
    "print(client.command('show tables'))\n",
    "print(\"-------\")\n"
   ]
  }
 ],
 "metadata": {
  "kernelspec": {
   "display_name": "Python 3 (ipykernel)",
   "language": "python",
   "name": "python3"
  },
  "language_info": {
   "codemirror_mode": {
    "name": "ipython",
    "version": 3
   },
   "file_extension": ".py",
   "mimetype": "text/x-python",
   "name": "python",
   "nbconvert_exporter": "python",
   "pygments_lexer": "ipython3",
   "version": "3.12.9"
  }
 },
 "nbformat": 4,
 "nbformat_minor": 2
}
